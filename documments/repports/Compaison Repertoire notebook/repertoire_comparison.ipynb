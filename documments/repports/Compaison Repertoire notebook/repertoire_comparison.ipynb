{
 "cells": [
  {
   "cell_type": "markdown",
   "id": "ef8a24bb",
   "metadata": {},
   "source": [
    "# Comparaison de plusieurs répertoires"
   ]
  },
  {
   "cell_type": "markdown",
   "id": "fc3335ab",
   "metadata": {},
   "source": [
    "## I./ Coefficient de correlaton de Pearson "
   ]
  },
  {
   "cell_type": "code",
   "execution_count": 2,
   "id": "5ea24293",
   "metadata": {},
   "outputs": [],
   "source": [
    "import numpy as np\n",
    "from repertoire_summary import *\n",
    "\n",
    "def cor(list_rep) :\n",
    "    \"\"\"\n",
    "    Calculate the Pearson correlation coefficient between several vectors of diversity\n",
    "    obtained with hill_diversity() function\n",
    "    input : list of repertoire as list of dataframe\n",
    "    output : Pearson coefficient correlation matrix\n",
    "    \"\"\"\n",
    "    \n",
    "    list_div = []\n",
    "    \n",
    "    for i in list_rep :\n",
    "        list_div.append(hill_diversity(i))\n",
    "    \n",
    "    #r = (np.sum((x_vect-np.mean(x_vect))*(y_vect-np.mean(y_vect)))) / np.sqrt(np.sum(((x_vect-np.mean(x_vect))**2))*np.sum(((y_vect-np.mean(y_vect))**2)))\n",
    "    r = np.corrcoef(list_div)\n",
    "    \n",
    "    return r\n",
    "    "
   ]
  },
  {
   "cell_type": "markdown",
   "id": "fa9c7f10",
   "metadata": {},
   "source": [
    "### Import TSV files"
   ]
  },
  {
   "cell_type": "code",
   "execution_count": 2,
   "id": "245d05c8",
   "metadata": {},
   "outputs": [],
   "source": [
    "import csv\n",
    "import pandas as pd\n",
    "\n",
    "# monoclonal\n",
    "data_mono = pd.read_csv('../data/l0036_mono_airr.tsv', sep='\\t')\n",
    "\n",
    "# oligoclonal\n",
    "data_oligo = pd.read_csv('../data/l0036_oligo_airr.tsv', sep='\\t')\n",
    "\n",
    "# polyclonal\n",
    "data_poly = pd.read_csv('../data/l0036_poly_airr.tsv', sep='\\t')"
   ]
  },
  {
   "cell_type": "code",
   "execution_count": 3,
   "id": "1cc5e9c2",
   "metadata": {},
   "outputs": [
    {
     "data": {
      "text/plain": [
       "array([[1.        , 0.99880041, 0.99938683],\n",
       "       [0.99880041, 1.        , 0.99936601],\n",
       "       [0.99938683, 0.99936601, 1.        ]])"
      ]
     },
     "execution_count": 3,
     "metadata": {},
     "output_type": "execute_result"
    }
   ],
   "source": [
    "cor([data_mono, data_oligo, data_poly])"
   ]
  },
  {
   "cell_type": "markdown",
   "id": "fb3bbb30",
   "metadata": {},
   "source": [
    "## II./ Jensen-Shannon Divergence"
   ]
  },
  {
   "cell_type": "code",
   "execution_count": 49,
   "id": "8d54a17c",
   "metadata": {},
   "outputs": [],
   "source": [
    "def JSD(x, y) :\n",
    "    \"\"\"\n",
    "    Calculate Jensen-Shannon Divergence between two distance pairwise distribution \n",
    "    input1 x : first repertoire \n",
    "    input2 y : second repertoire\n",
    "    output : Jensen-Shannon Divergence\n",
    "    \"\"\"\n",
    "    \n",
    "    pdd_x = PDDistribution(x)\n",
    "    pdd_y = PDDistribution(y)\n",
    "    \n",
    "    x_vect = count_values(np.array(pdd_x))\n",
    "    y_vect = count_values(np.array(pdd_y))\n",
    "    \n",
    "    if len(x_vect) > len(y_vect) :\n",
    "        for i in range(len(x_vect)-len(y_vect)) :\n",
    "            y_vect.append(0)\n",
    "    elif len(y_vect) > len(x_vect) :\n",
    "        for i in range(len(y_vect)-len(x_vect)) :\n",
    "            x_vect.append(0)\n",
    "    \n",
    "    # add eps=10e-10 to avoid log(0) error\n",
    "    x_vect = np.array(x_vect)+10e-10\n",
    "    y_vect = np.array(y_vect)+10e-10\n",
    "    # Normalize to obtain probability vector\n",
    "    x_vect = x_vect / sum(x_vect)\n",
    "    y_vect = y_vect / sum(y_vect)\n",
    "    \n",
    "    M = 0.5 * (x_vect + y_vect)\n",
    "    D_xM = np.sum(x_vect * np.log(x_vect/M))\n",
    "    D_yM = np.sum(y_vect * np.log(y_vect/M))\n",
    "    \n",
    "    JSD = 0.5 * D_xM + 0.5 * D_yM\n",
    "    \n",
    "    return JSD"
   ]
  },
  {
   "cell_type": "code",
   "execution_count": 70,
   "id": "9625977b",
   "metadata": {},
   "outputs": [
    {
     "data": {
      "text/plain": [
       "0.29002106800385485"
      ]
     },
     "execution_count": 70,
     "metadata": {},
     "output_type": "execute_result"
    }
   ],
   "source": [
    "JSD(data_mono, data_poly)"
   ]
  },
  {
   "cell_type": "code",
   "execution_count": 54,
   "id": "41812827",
   "metadata": {},
   "outputs": [],
   "source": [
    "def JSD_matrix(list_rep) :\n",
    "    \"\"\"\n",
    "    Calculate the JSD value for each pair of repertoire\n",
    "    input list_rep :list of repertoire dataframe\n",
    "    output : matrix containing JSD values \n",
    "    \"\"\"\n",
    "    \n",
    "    N = len(list_rep)\n",
    "    \n",
    "    jsd_mat = np.zeros((N, N))\n",
    "    \n",
    "    for i in range(N) :\n",
    "        for j in range(N) :\n",
    "            jsd_mat[i][j] = JSD(list_rep[i], list_rep[j])\n",
    "            \n",
    "    print(jsd_mat)\n",
    "    "
   ]
  },
  {
   "cell_type": "code",
   "execution_count": 55,
   "id": "0a6a82f0",
   "metadata": {},
   "outputs": [
    {
     "name": "stdout",
     "output_type": "stream",
     "text": [
      "[[0.         0.19241391 0.29002107]\n",
      " [0.19241391 0.         0.10134753]\n",
      " [0.29002107 0.10134753 0.        ]]\n"
     ]
    }
   ],
   "source": [
    "JSD_matrix([data_mono, data_oligo, data_poly])"
   ]
  },
  {
   "cell_type": "markdown",
   "id": "aad18aa0",
   "metadata": {},
   "source": [
    "## III./ Repertoire Overlap"
   ]
  },
  {
   "cell_type": "code",
   "execution_count": 66,
   "id": "0dad4ca6",
   "metadata": {},
   "outputs": [],
   "source": [
    "def overlap(x, y, option='sequence') :\n",
    "    \"\"\"\n",
    "    Calculate the repertoire overlap value between two repertoires\n",
    "    option argument defines which column is used, 'sequence' by default\n",
    "    input1 x : first repertoire\n",
    "    input2 y : second repertoire\n",
    "    input3 option : name of which column is used\n",
    "    output value : repertoire overlapv alue\n",
    "    \"\"\"\n",
    "    # delete duplicate\n",
    "    x_rep = np.array(x.drop_duplicates(subset=[option])[option])\n",
    "    y_rep = np.array(y.drop_duplicates(subset=[option])[option])\n",
    "    \n",
    "    C = x_rep[np.in1d(x_rep, y_rep)]\n",
    "    \n",
    "    value = len(C) / min(len(x_rep), len(y_rep))\n",
    "    \n",
    "    return value\n",
    "    "
   ]
  },
  {
   "cell_type": "code",
   "execution_count": 67,
   "id": "a1fe5e72",
   "metadata": {},
   "outputs": [
    {
     "data": {
      "text/plain": [
       "0.011976047904191617"
      ]
     },
     "execution_count": 67,
     "metadata": {},
     "output_type": "execute_result"
    }
   ],
   "source": [
    "overlap(data_oligo, data_poly)"
   ]
  },
  {
   "cell_type": "code",
   "execution_count": 68,
   "id": "99b37f2f",
   "metadata": {},
   "outputs": [],
   "source": [
    "def overlap_matrix(list_rep, option = 'sequence') :\n",
    "    \"\"\"\n",
    "    Calculate the repertoire overlap value for eawh pair of repertoire in list_rep\n",
    "    input1 list_rep : list of repertoire dataframe\n",
    "    input2 option : name of which colmun is used, 'sequence' by default\n",
    "    output overlap_mat : matrix containing overlap values \n",
    "    \"\"\"\n",
    "    N = len(list_rep)\n",
    "    \n",
    "    overlap_mat = np.zeros((N,N))\n",
    "    \n",
    "    for i in range(N) :\n",
    "        for j in range(N) :\n",
    "            overlap_mat[i][j] = overlap(list_rep[i], list_rep[j])\n",
    "            \n",
    "    return overlap_mat"
   ]
  },
  {
   "cell_type": "code",
   "execution_count": 69,
   "id": "49a8e11f",
   "metadata": {},
   "outputs": [
    {
     "data": {
      "text/plain": [
       "array([[1.        , 0.        , 0.        ],\n",
       "       [0.        , 1.        , 0.01197605],\n",
       "       [0.        , 0.01197605, 1.        ]])"
      ]
     },
     "execution_count": 69,
     "metadata": {},
     "output_type": "execute_result"
    }
   ],
   "source": [
    "overlap_matrix([data_mono, data_oligo, data_poly])"
   ]
  },
  {
   "cell_type": "code",
   "execution_count": null,
   "id": "1c293d2a",
   "metadata": {},
   "outputs": [],
   "source": []
  },
  {
   "cell_type": "code",
   "execution_count": null,
   "id": "5f23d3cf",
   "metadata": {},
   "outputs": [],
   "source": []
  }
 ],
 "metadata": {
  "kernelspec": {
   "display_name": "Python 3 (ipykernel)",
   "language": "python",
   "name": "python3"
  },
  "language_info": {
   "codemirror_mode": {
    "name": "ipython",
    "version": 3
   },
   "file_extension": ".py",
   "mimetype": "text/x-python",
   "name": "python",
   "nbconvert_exporter": "python",
   "pygments_lexer": "ipython3",
   "version": "3.8.12"
  }
 },
 "nbformat": 4,
 "nbformat_minor": 5
}
